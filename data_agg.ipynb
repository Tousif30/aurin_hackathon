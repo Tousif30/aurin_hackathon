{
 "cells": [
  {
   "cell_type": "code",
   "execution_count": 1,
   "metadata": {},
   "outputs": [],
   "source": [
    "import pandas as pd"
   ]
  },
  {
   "cell_type": "markdown",
   "metadata": {},
   "source": [
    "process to store all average vegetation data"
   ]
  },
  {
   "cell_type": "code",
   "execution_count": null,
   "metadata": {},
   "outputs": [],
   "source": [
    "years = [2014, 2015, 2016, 2017, 2018, 2019, 2020]\n",
    "mel_olympic_park = [3.5864912280701753, 3.360561403508772, 3.7754385964912283, 3.590122807017544, 3.5812631578947367, 3.2662280701754387, 3.731578947368421]\n",
    "\n",
    "\n",
    "table_2 = []\n",
    "for year, vegetation_cover in zip(years, mel_olympic_park):\n",
    "    table_2.append([year, vegetation_cover])\n",
    "\n",
    "\n",
    "df_mo = pd.DataFrame(table_2, columns=['Year', 'Average_Vegetation_Cover'])\n",
    "df_mo.to_csv(\"olympic_park.csv\",index=False)"
   ]
  },
  {
   "cell_type": "code",
   "execution_count": null,
   "metadata": {},
   "outputs": [],
   "source": [
    "table_3 = []\n",
    "essendon_airport = [4.016587719298245, 3.3836754385964913, 3.8524561403508772, 3.651456140350877, 3.3234912280701754, 3.0730438596491227, 3.428894736842105]\n",
    "for year,vegetation_cover in zip(years,essendon_airport):\n",
    "    table_3.append([year,vegetation_cover])\n",
    "df_ea = pd.DataFrame(table_3,columns=['Year', 'Average_Vegetation_Cover'])\n",
    "df_ea.to_csv(\"essendon_airport.csv\",index=False)\n"
   ]
  },
  {
   "cell_type": "code",
   "execution_count": null,
   "metadata": {},
   "outputs": [],
   "source": [
    "table_4 = []\n",
    "viewbank = [7.9416032298288295, 7.725577907412736, 8.135506317524262, 8.217089142926902, 7.640943137921713, 7.037739468612935, 8.277866429487013]\n",
    "for year, vegetation_cover in zip(years,viewbank):\n",
    "    table_4.append([year,vegetation_cover])\n",
    "df_vb = pd.DataFrame(table_4,columns=['Year', 'Average_Vegetation_Cover'])\n",
    "df_vb.to_csv(\"viewbank.csv\",index=False)"
   ]
  },
  {
   "cell_type": "code",
   "execution_count": null,
   "metadata": {},
   "outputs": [],
   "source": [
    "table_5 = []\n",
    "ferny_creek = [10.564617940199335, 10.489080258786501, 10.529970274523517, 10.446231858716558, 10.55532435740514, 10.435915369819899, 10.58499737716384]\n",
    "for year, vegetation_cover in zip(years,ferny_creek):\n",
    "    table_5.append([year,vegetation_cover])\n",
    "df_fc = pd.DataFrame(table_5,columns=['Year', 'Average_Vegetation_Cover'])\n",
    "df_fc.to_csv(\"ferny_creek.csv\",index=False)"
   ]
  }
 ],
 "metadata": {
  "kernelspec": {
   "display_name": "Python 3",
   "language": "python",
   "name": "python3"
  },
  "language_info": {
   "codemirror_mode": {
    "name": "ipython",
    "version": 3
   },
   "file_extension": ".py",
   "mimetype": "text/x-python",
   "name": "python",
   "nbconvert_exporter": "python",
   "pygments_lexer": "ipython3",
   "version": "3.10.11"
  }
 },
 "nbformat": 4,
 "nbformat_minor": 2
}
